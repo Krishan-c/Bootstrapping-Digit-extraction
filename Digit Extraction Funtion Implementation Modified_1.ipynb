{
 "cells": [
  {
   "cell_type": "code",
   "execution_count": 170,
   "metadata": {},
   "outputs": [
    {
     "name": "stdout",
     "output_type": "stream",
     "text": [
      "For defined parameters p and e the lifting polynoials: [x^5 - 2*x^4 - 3*x^3, x^5 - 2*x^4 - 4*x^3 - 4*x, x^5 - 3*x^4 - 4*x^3 - 3*x^2 - 5*x]\n"
     ]
    }
   ],
   "source": [
    "p=5\n",
    "e=4\n",
    "Z = Integers()\n",
    "Rz = PolynomialRing(Z, 'x')\n",
    "Zp = Integers(p)\n",
    "R.<x> = PolynomialRing(Zp, 'x')\n",
    "Zpe = Integers(p^e)\n",
    "Rpe.<x> = PolynomialRing(Zpe, 'x')\n",
    "def base_change(n,p):\n",
    "    digits = []\n",
    "    i = n\n",
    "    while(i!=0):\n",
    "        digits.append(i%p)\n",
    "        i = i//p\n",
    "    return digits\n",
    "\n",
    "def power_mod(base,exponent,mod):\n",
    "    i=exponent\n",
    "    result=1\n",
    "    s=base\n",
    "    while(i!=0):\n",
    "        m=i%2\n",
    "        if (m!=0):\n",
    "            result=(result*s)%mod\n",
    "        \n",
    "        s=(s*s)%mod\n",
    "        i=i//2\n",
    "    \n",
    "    return result \n",
    "    \n",
    "\n",
    "def lifting_polynomials(p,e):\n",
    "    P=p^e\n",
    "    Lifting_polynomials = []\n",
    "    for epsilon in range(1,e):\n",
    "        mod = p^(epsilon+1)\n",
    "        points = []\n",
    "        polynomials = []\n",
    "        for k in range(0,p):\n",
    "            t=power_mod(k,p,mod)\n",
    "            digits=base_change(t,p)\n",
    "            r=len(digits)\n",
    "            if r!=epsilon+1:\n",
    "                r1=epsilon+1-r\n",
    "                digits = digits + [0 for i in range(r1)]\n",
    "            points.append((k,digits))\n",
    "        for j in range(epsilon+1):\n",
    "            interpolation_points = [(points[i][0],points[i][1][j]) for i in range(p)]\n",
    "            poly = R.lagrange_polynomial(interpolation_points)\n",
    "            polynomials.append(Rz(poly))\n",
    "        \n",
    "        sum = Rz(0)\n",
    "        for j in range(1,epsilon+1):\n",
    "            sum = sum + polynomials[j]\n",
    "        \n",
    "        F = Rz(x^p) - Rz(sum)\n",
    "        Lifting_polynomials.append(F)\n",
    "    \n",
    "    return Lifting_polynomials \n",
    "\n",
    "print(\"For defined parameters p and e the lifting polynoials:\",lifting_polynomials(p,e))\n",
    "#print(\"For p=2:\",lifting_polynomials(2,4))\n",
    "#print(\"For p=3:\",lifting_polynomials(3,4))"
   ]
  },
  {
   "cell_type": "code",
   "execution_count": 174,
   "metadata": {},
   "outputs": [
    {
     "name": "stdout",
     "output_type": "stream",
     "text": [
      "For defined parameters p and e the digit extraction functions: [624*x^5 + 3*x^4 + 4*x^3 + 3*x^2 + 6*x, 624*x^25 + 10*x^24 + 605*x^23 + 545*x^22 + 260*x^21 + 195*x^20 + 426*x^19 + 24*x^18 + 337*x^17 + 612*x^16 + 608*x^15 + 450*x^14 + 376*x^13 + 266*x^12 + 463*x^11 + 96*x^10 + 367*x^9 + 620*x^8 + 503*x^7 + 212*x^6 + 309*x^5 + 229*x^4 + 349*x^3 + 48*x^2 + 606*x, 624*x^125 + 50*x^124 + 125*x^123 + 425*x^122 + 200*x^121 + 595*x^120 + 395*x^119 + 270*x^118 + 425*x^117 + 560*x^116 + 400*x^115 + 590*x^114 + 240*x^113 + 75*x^112 + 125*x^111 + 290*x^110 + 250*x^109 + 550*x^108 + 40*x^107 + 260*x^106 + 485*x^105 + 75*x^104 + 365*x^103 + 5*x^102 + 245*x^101 + 317*x^100 + 225*x^99 + 580*x^98 + 230*x^97 + 370*x^96 + 446*x^95 + 422*x^94 + 42*x^93 + 425*x^92 + 451*x^91 + 333*x^90 + 537*x^89 + 486*x^88 + 113*x^87 + 103*x^86 + 290*x^85 + 176*x^84 + 414*x^83 + 321*x^82 + 102*x^81 + 346*x^80 + 5*x^79 + 478*x^78 + 255*x^77 + 557*x^76 + 460*x^75 + 65*x^74 + 405*x^73 + 261*x^72 + 62*x^71 + 191*x^70 + 586*x^69 + 480*x^68 + 25*x^67 + 119*x^66 + 89*x^65 + 526*x^64 + 75*x^63 + 255*x^62 + 236*x^61 + 242*x^60 + 335*x^59 + 440*x^58 + 503*x^57 + 200*x^56 + 621*x^55 + 618*x^54 + 25*x^53 + 163*x^52 + 221*x^51 + 416*x^50 + 437*x^49 + 423*x^48 + 287*x^47 + 44*x^46 + 584*x^45 + 320*x^44 + 360*x^43 + 491*x^42 + 289*x^41 + 373*x^40 + 427*x^39 + 43*x^38 + 270*x^37 + 27*x^36 + 526*x^35 + 465*x^34 + 592*x^33 + 302*x^32 + 191*x^31 + 540*x^30 + 97*x^29 + 40*x^28 + 542*x^27 + 521*x^26 + 231*x^25 + 239*x^24 + 450*x^23 + 482*x^22 + 499*x^21 + 525*x^20 + 615*x^19 + 411*x^18 + 585*x^17 + 264*x^16 + 282*x^15 + 138*x^14 + 511*x^13 + 196*x^12 + 609*x^11 + 577*x^10 + 385*x^9 + 529*x^8 + 576*x^7 + 432*x^6 + 605*x^5 + 40*x^4 + 60*x^3 + x]\n",
      "One random integer between 0 and p^e: 342\n",
      "Base-p digits of z: [2, 3, 3, 2]\n",
      "After application of digit extraction functions on z: 220\n",
      "New Base-p digits After application of digit extraction functions on z: [0, 4, 3, 1]\n"
     ]
    }
   ],
   "source": [
    "import random\n",
    "def digit_extraction_function(p,e):\n",
    "    Lifting_polynomials = lifting_polynomials(p,e)\n",
    "    digit_extraction_functions = []\n",
    "    for j in range(1,e):\n",
    "        F = Rz(x)\n",
    "        for i in range(e-j-1,e-1):\n",
    "            F = Lifting_polynomials[i](F)\n",
    "        \n",
    "        G = Rpe(x) - Rpe(F)\n",
    "        digit_extraction_functions.append(G)\n",
    "    \n",
    "    return digit_extraction_functions\n",
    "        \n",
    "F = digit_extraction_function(p,e)\n",
    "print(\"For defined parameters p and e the digit extraction functions:\",F)\n",
    "z = random.randint(0,p^e)\n",
    "print(\"One random integer between 0 and p^e:\",z)\n",
    "print(\"Base-p digits of z:\",base_change(z,p))\n",
    "t=z\n",
    "for i in range(e-2,-1,-1):\n",
    "    t = F[i](t)\n",
    "\n",
    "#print(t)\n",
    "u = Integer(t)\n",
    "print(\"After application of digit extraction functions on z:\",u)\n",
    "print(\"New Base-p digits After application of digit extraction functions on z:\",base_change(u,p))"
   ]
  },
  {
   "cell_type": "code",
   "execution_count": null,
   "metadata": {},
   "outputs": [],
   "source": []
  }
 ],
 "metadata": {
  "kernelspec": {
   "display_name": "SageMath 9.0",
   "language": "sage",
   "name": "sagemath"
  },
  "language_info": {
   "codemirror_mode": {
    "name": "ipython",
    "version": 3
   },
   "file_extension": ".py",
   "mimetype": "text/x-python",
   "name": "python",
   "nbconvert_exporter": "python",
   "pygments_lexer": "ipython3",
   "version": "3.7.3"
  }
 },
 "nbformat": 4,
 "nbformat_minor": 2
}
