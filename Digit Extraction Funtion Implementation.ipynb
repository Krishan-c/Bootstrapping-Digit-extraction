{
 "cells": [
  {
   "cell_type": "code",
   "execution_count": 49,
   "metadata": {},
   "outputs": [
    {
     "name": "stdout",
     "output_type": "stream",
     "text": [
      "For p=7: [x^7, x^7 + 4*x^6 + 4*x^5 + x^3 + 5*x, x^7 + 4*x^6 + 3*x^5 + x^3 + 6*x, x^7 + x^6 + 3*x^5 + 3*x^4 + 5*x^2 + 2*x, x^7 + x^6 + x^5 + 5*x^3 + 6*x^2 + x, x^7 + 5*x^5 + 4*x^4 + 6*x^3 + 2*x^2 + 4*x, x^7 + 2*x^6 + 3*x^5 + 6*x^4 + 4*x^3 + 4*x^2 + 2*x, x^7 + 2*x^6 + 3*x^5 + 6*x^4 + 4*x^3 + 4*x^2 + 2*x, x^7 + 2*x^6 + 3*x^5 + 6*x^4 + 4*x^3 + 4*x^2 + 2*x, x^7 + 2*x^6 + 3*x^5 + 6*x^4 + 4*x^3 + 4*x^2 + 2*x, x^7 + 2*x^6 + 3*x^5 + 6*x^4 + 4*x^3 + 4*x^2 + 2*x, x^7 + 2*x^6 + 3*x^5 + 6*x^4 + 4*x^3 + 4*x^2 + 2*x, x^7 + 2*x^6 + 3*x^5 + 6*x^4 + 4*x^3 + 4*x^2 + 2*x, x^7 + 2*x^6 + 3*x^5 + 6*x^4 + 4*x^3 + 4*x^2 + 2*x, x^7 + 2*x^6 + 3*x^5 + 6*x^4 + 4*x^3 + 4*x^2 + 2*x, x^7 + 2*x^6 + 3*x^5 + 6*x^4 + 4*x^3 + 4*x^2 + 2*x, x^7 + 2*x^6 + 3*x^5 + 6*x^4 + 4*x^3 + 4*x^2 + 2*x, x^7 + 2*x^6 + 3*x^5 + 6*x^4 + 4*x^3 + 4*x^2 + 2*x]\n",
      "For p=2: [x^2, x^2, x^2, x^2, x^2, x^2, x^2, x^2, x^2, x^2, x^2, x^2, x^2, x^2, x^2, x^2, x^2, x^2]\n",
      "For p=3: [x^3, x^3 + 6*x^2 + x, x^3 + 6*x^2 + x, x^3 + 6*x^2 + x, x^3 + 6*x^2 + x, x^3 + 6*x^2 + x, x^3 + 6*x^2 + x, x^3 + 6*x^2 + x, x^3 + 6*x^2 + x, x^3 + 6*x^2 + x, x^3 + 6*x^2 + x, x^3 + 6*x^2 + x, x^3 + 6*x^2 + x, x^3 + 6*x^2 + x, x^3 + 6*x^2 + x, x^3 + 6*x^2 + x, x^3 + 6*x^2 + x, x^3 + 6*x^2 + x]\n"
     ]
    }
   ],
   "source": [
    "p=7\n",
    "Zp = Integers(p)\n",
    "R.<x> = PolynomialRing(Zp, 'x')\n",
    "\n",
    "def base_change(n,p):\n",
    "    digits = []\n",
    "    i = n\n",
    "    while(i!=0):\n",
    "        digits.append(i%p)\n",
    "        i = i//p\n",
    "    return digits\n",
    "\n",
    "def power_mod(base,exponent,mod):\n",
    "    i=exponent\n",
    "    result=1\n",
    "    s=base\n",
    "    while(i!=0):\n",
    "        m=i%2\n",
    "        if (m!=0):\n",
    "            result=(result*s)%mod\n",
    "        \n",
    "        s=(s*s)%mod\n",
    "        i=i//2\n",
    "    \n",
    "    return result \n",
    "    \n",
    "\n",
    "def lifting_polynomials(p,e):\n",
    "    P=p^e\n",
    "    Lifting_polynomials = []\n",
    "    for epsilon in range(1,e):\n",
    "        mod = p^(epsilon+1)\n",
    "        points = []\n",
    "        polynomials = []\n",
    "        for k in range(0,p):\n",
    "            t=power_mod(k,p,mod)\n",
    "            digits=base_change(t,p)\n",
    "            r=len(digits)\n",
    "            if r!=epsilon+1:\n",
    "                r1=epsilon+1-r\n",
    "                digits = digits + [0 for i in range(r1)]\n",
    "            points.append((k,digits))\n",
    "        for j in range(epsilon):\n",
    "            interpolation_points = [(points[i][0],points[i][1][j]) for i in range(p)]\n",
    "            poly = R.lagrange_polynomial(interpolation_points)\n",
    "            polynomials.append(poly)\n",
    "        \n",
    "        sum = R(0)\n",
    "        for j in range(1,epsilon):\n",
    "            sum = sum + polynomials[j]\n",
    "        \n",
    "        F = R(x^p) - sum\n",
    "        Lifting_polynomials.append(F)\n",
    "    \n",
    "    return Lifting_polynomials \n",
    "\n",
    "print(\"For p=7:\",lifting_polynomials(7,19))\n",
    "print(\"For p=2:\",lifting_polynomials(2,19))\n",
    "print(\"For p=3:\",lifting_polynomials(3,19))"
   ]
  },
  {
   "cell_type": "code",
   "execution_count": null,
   "metadata": {},
   "outputs": [],
   "source": []
  }
 ],
 "metadata": {
  "kernelspec": {
   "display_name": "SageMath 9.0",
   "language": "sage",
   "name": "sagemath"
  },
  "language_info": {
   "codemirror_mode": {
    "name": "ipython",
    "version": 3
   },
   "file_extension": ".py",
   "mimetype": "text/x-python",
   "name": "python",
   "nbconvert_exporter": "python",
   "pygments_lexer": "ipython3",
   "version": "3.7.3"
  }
 },
 "nbformat": 4,
 "nbformat_minor": 2
}
